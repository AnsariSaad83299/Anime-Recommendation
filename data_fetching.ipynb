{
  "cells": [
    {
      "cell_type": "markdown",
      "metadata": {
        "id": "aStobfzoOzTm"
      },
      "source": [
        "You need to setup your kaggle api keys: Refer https://www.kaggle.com/docs/api#authentication "
      ]
    },
    {
      "cell_type": "code",
      "execution_count": 11,
      "metadata": {
        "colab": {
          "base_uri": "https://localhost:8080/"
        },
        "id": "pngWBY_4fBEh",
        "outputId": "02f3eba7-06fd-4c11-905d-75433a5ec11e"
      },
      "outputs": [
        {
          "name": "stdout",
          "output_type": "stream",
          "text": [
            "Dataset URL: https://www.kaggle.com/datasets/dbdmobile/myanimelist-dataset\n",
            "License(s): DbCL-1.0\n",
            "Downloading myanimelist-dataset.zip to /Users/ramachandrank/Repos/MS/sem1/dic/Anime-Recommendation\n",
            "100%|█████████████████████████████████████▉| 1.80G/1.80G [00:54<00:00, 36.0MB/s]\n",
            "100%|██████████████████████████████████████| 1.80G/1.80G [00:54<00:00, 35.6MB/s]\n"
          ]
        }
      ],
      "source": [
        "!kaggle datasets download -d dbdmobile/myanimelist-dataset"
      ]
    },
    {
      "cell_type": "code",
      "execution_count": 12,
      "metadata": {
        "colab": {
          "base_uri": "https://localhost:8080/"
        },
        "id": "_QJKFKFof0aM",
        "outputId": "f00e98bd-62c8-41b1-a471-1227e1c89897"
      },
      "outputs": [
        {
          "name": "stdout",
          "output_type": "stream",
          "text": [
            "Archive:  myanimelist-dataset.zip\n",
            "  inflating: datasets/anime-dataset-2023.csv  \n",
            "  inflating: datasets/anime-filtered.csv  \n",
            "  inflating: datasets/final_animedataset.csv  \n",
            "  inflating: datasets/user-filtered.csv  \n",
            "  inflating: datasets/users-details-2023.csv  \n",
            "  inflating: datasets/users-score-2023.csv  \n"
          ]
        }
      ],
      "source": [
        "!unzip myanimelist-dataset.zip -d datasets\n"
      ]
    },
    {
      "cell_type": "code",
      "execution_count": null,
      "metadata": {},
      "outputs": [],
      "source": []
    }
  ],
  "metadata": {
    "colab": {
      "provenance": []
    },
    "kernelspec": {
      "display_name": "Python 3",
      "name": "python3"
    },
    "language_info": {
      "codemirror_mode": {
        "name": "ipython",
        "version": 3
      },
      "file_extension": ".py",
      "mimetype": "text/x-python",
      "name": "python",
      "nbconvert_exporter": "python",
      "pygments_lexer": "ipython3",
      "version": "3.12.5"
    }
  },
  "nbformat": 4,
  "nbformat_minor": 0
}
