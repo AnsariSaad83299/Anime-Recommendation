{
 "cells": [
  {
   "cell_type": "markdown",
   "metadata": {},
   "source": [
    "Task 1\n",
    "\n",
    "The potential of project to contribute in entertainment industry domain:\n",
    "\n",
    "- Increased User Satisfaction\n",
    "\n",
    "    As we are recommending animes based on personal data like gender, age and previously watched animes we are giving personal recommendation \n",
    "    to each user which will increase the user satisfaction.\n",
    "\n",
    "- Helps the User in Anime Discovery\n",
    "\n",
    "    As we are recommending based on location, age and gender the user will also receive recommendations which are different than what the user \n",
    "    usually watches, with this he can discover new genre of anime hence increasing his horizon of entertaiment and the user will enjoy his new \n",
    "    anime experience.\n",
    "\n",
    "- Increasing user retention and platform growth\n",
    "\n",
    "    As the user will get relevant recommendation he will continue to discover and enjoy more animes thus the usage of platform will increase.\n",
    "    If the customers like our recommendations they are more likely to choose our platform to watch animes thus increasing user retention\n",
    "    of our platform.\n",
    "\n",
    "- Cultural Relevance\n",
    "\n",
    "    As we are considering location for our recommendations the people from same region will receive similar recommendation, this can be helpful\n",
    "    if certain animes have a connection to any particular location which makes the anime more popular in that specific location, with this our \n",
    "    recommendation system becomes more accurate in terms of recommending animes to smaller cultural groups.\n",
    "\n",
    "- Filtering of Low Quality Content\n",
    "\n",
    "    As we are considering user ratings for all animes, the recommendations wont recommend the animes that have bad ratings which can \n",
    "    egatively affect user experience. This will automatically filter out the low quality content present on our platform"
   ]
  },
  {
   "cell_type": "markdown",
   "metadata": {},
   "source": [
    "Task 2\n",
    "\n",
    "General Questions regarding our data:\n",
    "1. Ramachandran:\n",
    "    1. Does user's demographic impact the genres of anime they are open to watch?\n",
    "        - This helps in identifying the genres a user prefers based on their demographic. With this we can suggest better animes from these genres that are more likely to suit the user's interests.\n",
    "    2. Is there a relationship between number of anime watched and the variety of genres a user likes?\n",
    "        - This is important as this helps to understand if people who watch more animes are open to vast variety of anime genres. If so, we can recommend varied animes to maintain user interest\n",
    "2. Rutuja:\n",
    "    1. Do different age groups prefer anime with varying durations?\n",
    "        - This will help us understand the relation between age and time spent by particular user, with this information we can introduce more number of animes for largest age group thus increasing our platform engagement.\n",
    "    2. Does the number of episodes affect the score of anime?\n",
    "        - This will help us to understand the optimum number of episodes so that we can use this information in future and produce animes which will be liked by majority of users.\n",
    "\n",
    "3. Seokwoo Park:\n",
    "    1. Is it possible to find out the differences between time to watch anime and other columns?\n",
    "        - I can make sure that developed countries are likely to have more time to watch anime due to their economic prosperity and advanced cultural development.\n",
    "    2. When grouping columns based on age, What kind of correlation or trend can we derive from this?\n",
    "        - With the increasing variety of anime in recent years, viewing time and the number of viewers are likely to grow as age increases."
   ]
  },
  {
   "cell_type": "code",
   "execution_count": 2,
   "metadata": {},
   "outputs": [],
   "source": [
    "import numpy as np\n",
    "import pandas as pd\n"
   ]
  },
  {
   "cell_type": "code",
   "execution_count": 5,
   "metadata": {},
   "outputs": [],
   "source": [
    "users_df = pd.read_csv(\"cleaned_datasets/users_details_dataset_cleaned.csv\")\n",
    "anime_df = pd.read_csv(\"cleaned_datasets/anime_dataset_cleaned.csv\")\n",
    "user_score_df = pd.read_csv(\"cleaned_datasets/user_scores_cleaned.csv\")"
   ]
  },
  {
   "cell_type": "code",
   "execution_count": null,
   "metadata": {},
   "outputs": [],
   "source": []
  },
  {
   "cell_type": "markdown",
   "metadata": {},
   "source": [
    "EDA Park"
   ]
  },
  {
   "cell_type": "markdown",
   "metadata": {},
   "source": [
    "EDA Saad"
   ]
  },
  {
   "cell_type": "markdown",
   "metadata": {},
   "source": [
    "EDA Ramachandran"
   ]
  },
  {
   "cell_type": "markdown",
   "metadata": {},
   "source": [
    "EDA Rutuja"
   ]
  }
 ],
 "metadata": {
  "kernelspec": {
   "display_name": ".venv",
   "language": "python",
   "name": "python3"
  },
  "language_info": {
   "codemirror_mode": {
    "name": "ipython",
    "version": 3
   },
   "file_extension": ".py",
   "mimetype": "text/x-python",
   "name": "python",
   "nbconvert_exporter": "python",
   "pygments_lexer": "ipython3",
   "version": "3.12.5"
  }
 },
 "nbformat": 4,
 "nbformat_minor": 2
}
