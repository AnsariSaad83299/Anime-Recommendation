{
 "cells": [
  {
   "cell_type": "markdown",
   "metadata": {},
   "source": [
    "General Questions regarding our data:\n",
    "1. Ramachandran:\n",
    "    1. Does user's demographic impact the genres of anime they are open to watch?\n",
    "        - This helps in identifying the genres a user prefers based on their demographic. With this we can suggest better animes from these genres that are more likely to suit the user's interests.\n",
    "    2. Is there a relationship between number of anime watched and the variety of genres a user likes?\n",
    "        - This is important as this helps to understand if people who watch more animes are open to vast variety of anime genres. If so, we can recommend varied animes to maintain user interest"
   ]
  },
  {
   "cell_type": "code",
   "execution_count": 2,
   "metadata": {},
   "outputs": [],
   "source": [
    "import numpy as np\n",
    "import pandas as pd\n"
   ]
  },
  {
   "cell_type": "code",
   "execution_count": 5,
   "metadata": {},
   "outputs": [],
   "source": [
    "users_df = pd.read_csv(\"cleaned_datasets/users_details_dataset_cleaned.csv\")\n",
    "anime_df = pd.read_csv(\"cleaned_datasets/anime_dataset_cleaned.csv\")\n",
    "user_score_df = pd.read_csv(\"cleaned_datasets/user_scores_cleaned.csv\")"
   ]
  },
  {
   "cell_type": "code",
   "execution_count": null,
   "metadata": {},
   "outputs": [],
   "source": []
  },
  {
   "cell_type": "markdown",
   "metadata": {},
   "source": [
    "EDA Park"
   ]
  },
  {
   "cell_type": "markdown",
   "metadata": {},
   "source": [
    "EDA Saad"
   ]
  },
  {
   "cell_type": "markdown",
   "metadata": {},
   "source": [
    "EDA Ramachandran"
   ]
  },
  {
   "cell_type": "markdown",
   "metadata": {},
   "source": [
    "EDA Rutuja"
   ]
  }
 ],
 "metadata": {
  "kernelspec": {
   "display_name": ".venv",
   "language": "python",
   "name": "python3"
  },
  "language_info": {
   "codemirror_mode": {
    "name": "ipython",
    "version": 3
   },
   "file_extension": ".py",
   "mimetype": "text/x-python",
   "name": "python",
   "nbconvert_exporter": "python",
   "pygments_lexer": "ipython3",
   "version": "3.12.5"
  }
 },
 "nbformat": 4,
 "nbformat_minor": 2
}
