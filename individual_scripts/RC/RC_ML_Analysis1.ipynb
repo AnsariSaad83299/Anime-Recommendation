{
 "cells": [
  {
   "cell_type": "markdown",
   "metadata": {},
   "source": [
    "Q. Does user's demographic(location, age, gender) impact type of anime(genre, episodes, anime type(OVA, movie), Rank) they are prefer?\n",
    "For solving this question, I am trying to determine the rating of an anime based on user's demographic(Age, Location, Gender) and anime's features(genre, type and episodes)\n",
    "\n",
    "The first algorithm I am trying is OrderedModel. I am trying to classify a given combination of user demographic and anime features to the probable rating by user.\n",
    "This is because rating is a multiclass column. Plain logistic regression would be a bit lacking to predict the expected rating.\n",
    "OrderedModel is more suitable for ordinal multiclass classification."
   ]
  },
  {
   "cell_type": "code",
   "execution_count": 3,
   "metadata": {},
   "outputs": [
    {
     "name": "stdout",
     "output_type": "stream",
     "text": [
      "<class 'pandas.core.frame.DataFrame'>\n",
      "RangeIndex: 5207686 entries, 0 to 5207685\n",
      "Data columns (total 21 columns):\n",
      " #   Column            Dtype  \n",
      "---  ------            -----  \n",
      " 0   Unnamed: 0        int64  \n",
      " 1   user_id           int64  \n",
      " 2   anime_id          int64  \n",
      " 3   rating            int64  \n",
      " 4   Gender            object \n",
      " 5   Location          object \n",
      " 6   Birthday_Date     object \n",
      " 7   Joined_Date       object \n",
      " 8   Age_Join          float64\n",
      " 9   Episodes Watched  float64\n",
      " 10  Age               float64\n",
      " 11  Name              object \n",
      " 12  Genres            object \n",
      " 13  Type              object \n",
      " 14  Start Date        object \n",
      " 15  End Date          object \n",
      " 16  Studios           object \n",
      " 17  Source            object \n",
      " 18  Rank              object \n",
      " 19  Episodes          float64\n",
      " 20  Episodes_Norm     float64\n",
      "dtypes: float64(5), int64(4), object(12)\n",
      "memory usage: 834.4+ MB\n"
     ]
    }
   ],
   "source": [
    "import pandas as pd\n",
    "import numpy as np\n",
    "from statsmodels.miscmodels.ordinal_model import OrderedModel\n",
    "from sklearn.model_selection import train_test_split\n",
    "from sklearn.preprocessing import MultiLabelBinarizer\n",
    "\n",
    "data = pd.read_csv('../../joined_datasets/joined_rating_dataset.csv')\n",
    "cleaned_dataset = pd.read_csv(\"../../cleaned_datasets/users_details_dataset_cleaned.csv\")\n",
    "data.dropna()\n",
    "data.info()"
   ]
  },
  {
   "cell_type": "markdown",
   "metadata": {},
   "source": [
    "Performing undersampling as number of rows was a bit too high to compute using my laptop. Considering only the top 10 countries"
   ]
  },
  {
   "cell_type": "code",
   "execution_count": 4,
   "metadata": {},
   "outputs": [
    {
     "name": "stdout",
     "output_type": "stream",
     "text": [
      "<class 'pandas.core.frame.DataFrame'>\n",
      "Index: 3357313 entries, 0 to 5207685\n",
      "Data columns (total 21 columns):\n",
      " #   Column            Dtype  \n",
      "---  ------            -----  \n",
      " 0   Unnamed: 0        int64  \n",
      " 1   user_id           int64  \n",
      " 2   anime_id          int64  \n",
      " 3   rating            int64  \n",
      " 4   Gender            object \n",
      " 5   Location          object \n",
      " 6   Birthday_Date     object \n",
      " 7   Joined_Date       object \n",
      " 8   Age_Join          float64\n",
      " 9   Episodes Watched  float64\n",
      " 10  Age               float64\n",
      " 11  Name              object \n",
      " 12  Genres            object \n",
      " 13  Type              object \n",
      " 14  Start Date        object \n",
      " 15  End Date          object \n",
      " 16  Studios           object \n",
      " 17  Source            object \n",
      " 18  Rank              object \n",
      " 19  Episodes          float64\n",
      " 20  Episodes_Norm     float64\n",
      "dtypes: float64(5), int64(4), object(12)\n",
      "memory usage: 563.5+ MB\n"
     ]
    }
   ],
   "source": [
    "df = cleaned_dataset.copy()\n",
    "import pandas as pd\n",
    "import matplotlib.pyplot as plt\n",
    "\n",
    "location_user_counts = df['Location'].value_counts()\n",
    "\n",
    "top_countries = df['Location'].value_counts().head(10)\n",
    "\n",
    "# # Get the list of top 20 countries\n",
    "top_10_countries = top_countries.index.tolist()\n",
    "data = data[data['Location'].isin(top_10_countries)]\n",
    "data.info()\n"
   ]
  },
  {
   "cell_type": "code",
   "execution_count": 5,
   "metadata": {},
   "outputs": [
    {
     "name": "stderr",
     "output_type": "stream",
     "text": [
      "/var/folders/dz/fg9tl53x4y16ytgmdhwdt0kr0000gn/T/ipykernel_85581/807053095.py:9: DeprecationWarning: DataFrameGroupBy.apply operated on the grouping columns. This behavior is deprecated, and in a future version of pandas the grouping columns will be excluded from the operation. Either pass `include_groups=False` to exclude the groupings or explicitly select the grouping columns after groupby to silence this warning.\n",
      "  under_sampled_df = data.groupby('Location').apply(lambda x: x.sample(n=min(len(x), target_sample_size), random_state=42)).reset_index(drop=True)\n"
     ]
    },
    {
     "name": "stdout",
     "output_type": "stream",
     "text": [
      "Under-sampled DataFrame shape: (1075590, 21)\n",
      "Counts of each class in the target variable:\n",
      "Location\n",
      "Australia        107559\n",
      "Brazil           107559\n",
      "Canada           107559\n",
      "France           107559\n",
      "Germany          107559\n",
      "Philippines      107559\n",
      "Poland           107559\n",
      "Russia           107559\n",
      "Sweden           107559\n",
      "United States    107559\n",
      "Name: count, dtype: int64\n"
     ]
    }
   ],
   "source": [
    "# Undersampling\n",
    "# Count entries for each location\n",
    "location_counts = data['Location'].value_counts()\n",
    "\n",
    "# Decide the target sample size (e.g., use the minimum count of the top 5 locations)\n",
    "target_sample_size = location_counts.nsmallest(5).min()  # Choose the minimum of the top 5\n",
    "\n",
    "# Under-sample the DataFrame\n",
    "under_sampled_df = data.groupby('Location').apply(lambda x: x.sample(n=min(len(x), target_sample_size), random_state=42)).reset_index(drop=True)\n",
    "\n",
    "# Count occurrences of each class in the target variable (assuming your target variable is 'rating')\n",
    "target_counts = under_sampled_df['Location'].value_counts()\n",
    "# Output the results\n",
    "print(\"Under-sampled DataFrame shape:\", under_sampled_df.shape)\n",
    "print(\"Counts of each class in the target variable:\")\n",
    "print(target_counts)"
   ]
  },
  {
   "cell_type": "markdown",
   "metadata": {},
   "source": [
    "Checking if more undersampling is needed based on ratings."
   ]
  },
  {
   "cell_type": "code",
   "execution_count": 6,
   "metadata": {},
   "outputs": [
    {
     "name": "stdout",
     "output_type": "stream",
     "text": [
      "Class = 10, n=142811 (13.28%)\n",
      "Class = 9, n=193198 (17.96%)\n",
      "Class = 6, n=123165 (11.45%)\n",
      "Class = 8, n=264913 (24.63%)\n",
      "Class = 7, n=243352 (22.62%)\n",
      "Class = 5, n=61613 (5.73%)\n",
      "Class = 4, n=25777 (2.40%)\n",
      "Class = 2, n=5855 (0.54%)\n",
      "Class = 3, n=10901 (1.01%)\n",
      "Class = 1, n=4005 (0.37%)\n"
     ]
    },
    {
     "data": {
      "text/plain": [
       "<Axes: title={'center': 'Count (target)'}, xlabel='rating'>"
      ]
     },
     "execution_count": 6,
     "metadata": {},
     "output_type": "execute_result"
    },
    {
     "data": {
      "image/png": "[encoded data removed]",
      "text/plain": [
       "<Figure size 640x480 with 1 Axes>"
      ]
     },
     "metadata": {},
     "output_type": "display_data"
    }
   ],
   "source": [
    "from collections import Counter\n",
    "\n",
    "counter = Counter(under_sampled_df[\"rating\"])\n",
    "\n",
    "for k, v in counter.items():\n",
    "    per = 100*v/len(under_sampled_df[\"rating\"])\n",
    "    print(f\"Class = {k}, n={v} ({per:.2f}%)\")\n",
    "\n",
    "target_count = under_sampled_df[\"rating\"].value_counts()\n",
    "target_count.plot(kind='bar', title='Count (target)')"
   ]
  },
  {
   "cell_type": "code",
   "execution_count": 8,
   "metadata": {},
   "outputs": [
    {
     "data": {
      "text/plain": [
       "Index(['Unnamed: 0', 'user_id', 'anime_id', 'rating', 'Gender', 'Location',\n",
       "       'Birthday_Date', 'Joined_Date', 'Age_Join', 'Episodes Watched', 'Age',\n",
       "       'Name', 'Genres', 'Type', 'Start Date', 'End Date', 'Studios', 'Source',\n",
       "       'Rank', 'Episodes', 'Episodes_Norm'],\n",
       "      dtype='object')"
      ]
     },
     "execution_count": 8,
     "metadata": {},
     "output_type": "execute_result"
    }
   ],
   "source": [
    "data.columns"
   ]
  },
  {
   "cell_type": "markdown",
   "metadata": {},
   "source": [
    "Converting the columns with string data to 1 hot encoded columns. Location to multiple columns with country name, gender to male, non-binary, genres to Adventure etc.\n",
    "Splitting genres was a bit more tricky as there are multiple genres in each entry of genres column. "
   ]
  },
  {
   "cell_type": "code",
   "execution_count": 32,
   "metadata": {},
   "outputs": [
    {
     "name": "stdout",
     "output_type": "stream",
     "text": [
      "<class 'pandas.core.frame.DataFrame'>\n",
      "Index: 808423 entries, 0 to 1075589\n",
      "Data columns (total 52 columns):\n",
      " #   Column                  Non-Null Count   Dtype  \n",
      "---  ------                  --------------   -----  \n",
      " 0   Unnamed: 0              808423 non-null  float64\n",
      " 1   user_id                 808423 non-null  float64\n",
      " 2   anime_id                808423 non-null  float64\n",
      " 3   rating                  808423 non-null  float64\n",
      " 4   Birthday_Date           808423 non-null  object \n",
      " 5   Joined_Date             808423 non-null  object \n",
      " 6   Age_Join                808423 non-null  float64\n",
      " 7   Episodes Watched        808423 non-null  float64\n",
      " 8   Age                     808423 non-null  float64\n",
      " 9   Name                    808423 non-null  object \n",
      " 10  Start Date              808423 non-null  object \n",
      " 11  End Date                808423 non-null  object \n",
      " 12  Studios                 808423 non-null  object \n",
      " 13  Source                  808423 non-null  object \n",
      " 14  Rank                    808423 non-null  object \n",
      " 15  Episodes                808423 non-null  float64\n",
      " 16  Episodes_Norm           808423 non-null  float64\n",
      " 17  Gender_Male             808423 non-null  float64\n",
      " 18  Gender_Non-Binary       808423 non-null  float64\n",
      " 19  Location_Brazil         808423 non-null  float64\n",
      " 20  Location_Canada         808423 non-null  float64\n",
      " 21  Location_France         808423 non-null  float64\n",
      " 22  Location_Germany        808423 non-null  float64\n",
      " 23  Location_Philippines    808423 non-null  float64\n",
      " 24  Location_Poland         808423 non-null  float64\n",
      " 25  Location_Russia         808423 non-null  float64\n",
      " 26  Location_Sweden         808423 non-null  float64\n",
      " 27  Location_United States  808423 non-null  float64\n",
      " 28  Type_Music              808423 non-null  float64\n",
      " 29  Type_ONA                808423 non-null  float64\n",
      " 30  Type_OVA                808423 non-null  float64\n",
      " 31  Type_Special            808423 non-null  float64\n",
      " 32  Type_TV                 808423 non-null  float64\n",
      " 33  Genre_Action            808423 non-null  float64\n",
      " 34  Genre_Adventure         808423 non-null  float64\n",
      " 35  Genre_Avant Garde       808423 non-null  float64\n",
      " 36  Genre_Award Winning     808423 non-null  float64\n",
      " 37  Genre_Boys Love         808423 non-null  float64\n",
      " 38  Genre_Comedy            808423 non-null  float64\n",
      " 39  Genre_Drama             808423 non-null  float64\n",
      " 40  Genre_Ecchi             808423 non-null  float64\n",
      " 41  Genre_Fantasy           808423 non-null  float64\n",
      " 42  Genre_Girls Love        808423 non-null  float64\n",
      " 43  Genre_Gourmet           808423 non-null  float64\n",
      " 44  Genre_Horror            808423 non-null  float64\n",
      " 45  Genre_Mystery           808423 non-null  float64\n",
      " 46  Genre_Romance           808423 non-null  float64\n",
      " 47  Genre_Sci-Fi            808423 non-null  float64\n",
      " 48  Genre_Slice of Life     808423 non-null  float64\n",
      " 49  Genre_Sports            808423 non-null  float64\n",
      " 50  Genre_Supernatural      808423 non-null  float64\n",
      " 51  Genre_Suspense          808423 non-null  float64\n",
      "dtypes: float64(44), object(8)\n",
      "memory usage: 326.9+ MB\n"
     ]
    }
   ],
   "source": [
    "# Select features for the model - adjust based on your dataset\n",
    "features = ['Gender', 'Location', 'Age', 'Genres', 'Type', 'Episodes', 'Rank']\n",
    "target = 'rating'\n",
    "\n",
    "# One-hot encode categorical features\n",
    "df = pd.get_dummies(under_sampled_df, columns=['Gender', 'Location', 'Type'],drop_first=True)\n",
    "\n",
    "\n",
    "# Split the 'Genres' column into lists of individual genres\n",
    "df['Genres'] = df['Genres'].str.strip().str.replace(', ', ',').str.replace(' ,', ',').str.split(',')\n",
    "\n",
    "# Initialize MultiLabelBinarizer\n",
    "mlb = MultiLabelBinarizer()\n",
    "\n",
    "# One-hot encode the genres and create a DataFrame with separate columns for each genre\n",
    "genres_one_hot = pd.DataFrame(mlb.fit_transform(df['Genres']), columns=mlb.classes_, index=df.index)\n",
    "genres_one_hot = genres_one_hot.add_prefix(\"Genre_\")\n",
    "\n",
    "\n",
    "# Concatenate the one-hot encoded genres back to the original DataFrame and drop the original 'Genres' column\n",
    "df = pd.concat([df, genres_one_hot], axis=1).drop('Genres', axis=1)\n"
   ]
  },
  {
   "cell_type": "code",
   "execution_count": 33,
   "metadata": {},
   "outputs": [],
   "source": [
    "df = df.astype({col: 'float' for col in df.select_dtypes(include=['bool']).columns})\n",
    "df = df.astype({col: 'float' for col in df.select_dtypes(include=['int64', 'float64']).columns})\n",
    "df = df.dropna()\n",
    "df = df[df[\"Rank\"]!=\"UNKNOWN\"]"
   ]
  },
  {
   "cell_type": "markdown",
   "metadata": {},
   "source": [
    "Dropping columns with no data"
   ]
  },
  {
   "cell_type": "code",
   "execution_count": 34,
   "metadata": {},
   "outputs": [],
   "source": [
    "\n",
    "genre_columns = [col for col in df.columns if col.startswith(\"Genre_\")]\n",
    "\n",
    "\n",
    "genre_counts = df[genre_columns].sum()\n",
    "\n",
    "\n",
    "zero_count_genres = genre_counts[genre_counts == 0].index\n",
    "zero_count_genres\n",
    "df = df.drop(columns=zero_count_genres)"
   ]
  },
  {
   "cell_type": "markdown",
   "metadata": {},
   "source": [
    "Dropping type columns with no data"
   ]
  },
  {
   "cell_type": "code",
   "execution_count": 35,
   "metadata": {},
   "outputs": [],
   "source": [
    "type_columns = [col for col in df.columns if col.startswith(\"Type_\")]\n",
    "\n",
    "\n",
    "type_counts = df[type_columns].sum()\n",
    "\n",
    "\n",
    "zero_count_types = type_counts[type_counts == 0].index\n",
    "df = df.drop(columns=zero_count_types)"
   ]
  },
  {
   "cell_type": "markdown",
   "metadata": {},
   "source": [
    "Standardizing the columns with high variance data, to a small range(0-1)"
   ]
  },
  {
   "cell_type": "code",
   "execution_count": 46,
   "metadata": {},
   "outputs": [],
   "source": [
    "# Standardize the features\n",
    "features = df.columns.difference(['user_id', 'anime_id', 'rating', 'Birthday_Date', 'Joined_Date', 'Age_Join', 'Episodes Watched',\n",
    "                                  'Start Date', 'End Date', 'Name', 'Rank', 'Studios', 'Source', 'Episodes_Norm', 'Unnamed: 0'])\n",
    "from sklearn.preprocessing import LabelEncoder, StandardScaler\n",
    "scaler = StandardScaler()\n",
    "df_scaled = scaler.fit_transform(df[features])"
   ]
  },
  {
   "cell_type": "code",
   "execution_count": 61,
   "metadata": {},
   "outputs": [],
   "source": [
    "\n",
    "\n",
    "# # Split the data\n",
    "X = df_scaled\n",
    "\n",
    "y = df[target]\n",
    "\n",
    "y = y.astype('category')\n",
    "\n",
    "\n",
    "X_train, X_test, y_train, y_test = train_test_split(X, y, test_size=0.2, random_state=42)\n",
    "\n"
   ]
  },
  {
   "cell_type": "code",
   "execution_count": 51,
   "metadata": {},
   "outputs": [
    {
     "name": "stderr",
     "output_type": "stream",
     "text": [
      "/Users/ramachandrank/Repos/MS/sem1/.venv/lib/python3.12/site-packages/statsmodels/miscmodels/ordinal_model.py:205: Warning: the endog has ordered == False, risk of capturing a wrong order for the categories. ordered == True preferred.\n",
      "  warnings.warn(\"the endog has ordered == False, \"\n"
     ]
    },
    {
     "name": "stdout",
     "output_type": "stream",
     "text": [
      "Optimization terminated successfully.\n",
      "         Current function value: 1.809041\n",
      "         Iterations: 76\n",
      "         Function evaluations: 77\n",
      "         Gradient evaluations: 77\n",
      "                             OrderedModel Results                             \n",
      "==============================================================================\n",
      "Dep. Variable:                 rating   Log-Likelihood:            -1.1700e+06\n",
      "Model:                   OrderedModel   AIC:                         2.340e+06\n",
      "Method:            Maximum Likelihood   BIC:                         2.341e+06\n",
      "Date:                Tue, 05 Nov 2024                                         \n",
      "Time:                        01:05:53                                         \n",
      "No. Observations:              646738                                         \n",
      "Df Residuals:                  646693                                         \n",
      "Df Model:                          36                                         \n",
      "==============================================================================\n",
      "                 coef    std err          z      P>|z|      [0.025      0.975]\n",
      "------------------------------------------------------------------------------\n",
      "x1            -0.0982      0.002    -42.858      0.000      -0.103      -0.094\n",
      "x2             0.0701      0.003     27.653      0.000       0.065       0.075\n",
      "x3            -0.0363      0.002    -15.650      0.000      -0.041      -0.032\n",
      "x4            -0.0243      0.002    -10.639      0.000      -0.029      -0.020\n",
      "x5             0.0275      0.003      9.927      0.000       0.022       0.033\n",
      "x6             0.0138      0.003      5.198      0.000       0.009       0.019\n",
      "x7            -0.0196      0.002     -8.279      0.000      -0.024      -0.015\n",
      "x8             0.1707      0.002     71.253      0.000       0.166       0.175\n",
      "x9            -0.0328      0.002    -14.029      0.000      -0.037      -0.028\n",
      "x10           -0.0252      0.003     -9.267      0.000      -0.030      -0.020\n",
      "x11            0.0896      0.002     36.281      0.000       0.085       0.094\n",
      "x12           -0.1601      0.002    -66.880      0.000      -0.165      -0.155\n",
      "x13           -0.0662      0.003    -24.345      0.000      -0.071      -0.061\n",
      "x14           -0.0462      0.002    -20.985      0.000      -0.051      -0.042\n",
      "x15           -0.0067      0.002     -3.064      0.002      -0.011      -0.002\n",
      "x16           -0.0536      0.002    -22.364      0.000      -0.058      -0.049\n",
      "x17            0.0138      0.002      5.616      0.000       0.009       0.019\n",
      "x18           -0.0108      0.003     -4.180      0.000      -0.016      -0.006\n",
      "x19           -0.0712      0.003    -28.282      0.000      -0.076      -0.066\n",
      "x20            0.0007      0.002      0.305      0.761      -0.004       0.005\n",
      "x21            0.0276      0.002     11.525      0.000       0.023       0.032\n",
      "x22            0.0557      0.003     21.536      0.000       0.051       0.061\n",
      "x23            0.0901      0.002     37.126      0.000       0.085       0.095\n",
      "x24            0.0997      0.003     33.413      0.000       0.094       0.106\n",
      "x25            0.0049      0.003      1.679      0.093      -0.001       0.011\n",
      "x26           -0.1212      0.003    -41.186      0.000      -0.127      -0.115\n",
      "x27           -0.0015      0.003     -0.523      0.601      -0.007       0.004\n",
      "x28            0.2139      0.003     71.678      0.000       0.208       0.220\n",
      "x29            0.0054      0.003      1.809      0.070      -0.000       0.011\n",
      "x30           -0.0021      0.003     -0.722      0.470      -0.008       0.004\n",
      "x31           -0.0591      0.003    -20.133      0.000      -0.065      -0.053\n",
      "x32            0.0511      0.003     17.317      0.000       0.045       0.057\n",
      "x33            0.0819      0.022      3.793      0.000       0.040       0.124\n",
      "x34            0.2518      0.046      5.474      0.000       0.162       0.342\n",
      "x35            0.1143      0.031      3.744      0.000       0.054       0.174\n",
      "x36            0.3265      0.057      5.683      0.000       0.214       0.439\n",
      "1.0/2.0       -5.7747      0.021   -272.373      0.000      -5.816      -5.733\n",
      "2.0/3.0       -0.0874      0.018     -4.879      0.000      -0.122      -0.052\n",
      "3.0/4.0       -0.2641      0.013    -20.543      0.000      -0.289      -0.239\n",
      "4.0/5.0       -0.1622      0.008    -19.599      0.000      -0.178      -0.146\n",
      "5.0/6.0       -0.0942      0.005    -17.702      0.000      -0.105      -0.084\n",
      "6.0/7.0       -0.0924      0.004    -25.372      0.000      -0.100      -0.085\n",
      "7.0/8.0        0.1040      0.002     42.815      0.000       0.099       0.109\n",
      "8.0/9.0        0.0904      0.002     40.083      0.000       0.086       0.095\n",
      "9.0/10.0       0.1427      0.003     52.318      0.000       0.137       0.148\n",
      "==============================================================================\n",
      "x1           0.000000e+00\n",
      "x2          2.577699e-168\n",
      "x3           3.321227e-55\n",
      "x4           1.955738e-26\n",
      "x5           3.176869e-23\n",
      "x6           2.012625e-07\n",
      "x7           1.246599e-16\n",
      "x8           0.000000e+00\n",
      "x9           1.029523e-44\n",
      "x10          1.920620e-20\n",
      "x11         3.235854e-288\n",
      "x12          0.000000e+00\n",
      "x13         6.571681e-131\n",
      "x14          8.905023e-98\n",
      "x15          2.182299e-03\n",
      "x16         8.816428e-111\n",
      "x17          1.959507e-08\n",
      "x18          2.920828e-05\n",
      "x19         5.724506e-176\n",
      "x20          7.606672e-01\n",
      "x21          9.828134e-31\n",
      "x22         7.141908e-103\n",
      "x23         1.054674e-301\n",
      "x24         8.738269e-245\n",
      "x25          9.317266e-02\n",
      "x26          0.000000e+00\n",
      "x27          6.010196e-01\n",
      "x28          0.000000e+00\n",
      "x29          7.049801e-02\n",
      "x30          4.700492e-01\n",
      "x31          3.813837e-90\n",
      "x32          3.520680e-67\n",
      "x33          1.487744e-04\n",
      "x34          4.396056e-08\n",
      "x35          1.808022e-04\n",
      "x36          1.323051e-08\n",
      "1.0/2.0      0.000000e+00\n",
      "2.0/3.0      1.067125e-06\n",
      "3.0/4.0      8.949131e-94\n",
      "4.0/5.0      1.588290e-85\n",
      "5.0/6.0      4.073080e-70\n",
      "6.0/7.0     5.102751e-142\n",
      "7.0/8.0      0.000000e+00\n",
      "8.0/9.0      0.000000e+00\n",
      "9.0/10.0     0.000000e+00\n",
      "dtype: float64\n",
      "                 0         1\n",
      "x1       -0.102683 -0.093702\n",
      "x2        0.065154  0.075095\n",
      "x3       -0.040892 -0.031789\n",
      "x4       -0.028831 -0.019861\n",
      "x5        0.022085  0.032951\n",
      "x6        0.008585  0.018977\n",
      "x7       -0.024244 -0.014962\n",
      "x8        0.166049  0.175442\n",
      "x9       -0.037368 -0.028207\n",
      "x10      -0.030481 -0.019838\n",
      "x11       0.084786  0.094470\n",
      "x12      -0.164840 -0.155453\n",
      "x13      -0.071488 -0.060835\n",
      "x14      -0.050527 -0.041895\n",
      "x15      -0.011061 -0.002431\n",
      "x16      -0.058337 -0.048936\n",
      "x17       0.008960  0.018567\n",
      "x18      -0.015927 -0.005758\n",
      "x19      -0.076156 -0.066284\n",
      "x20      -0.003877  0.005304\n",
      "x21       0.022886  0.032264\n",
      "x22       0.050661  0.060805\n",
      "x23       0.085310  0.094819\n",
      "x24       0.093861  0.105559\n",
      "x25      -0.000828  0.010715\n",
      "x26      -0.126932 -0.115400\n",
      "x27      -0.007290  0.004219\n",
      "x28       0.208073  0.219772\n",
      "x29      -0.000447  0.011149\n",
      "x30      -0.007860  0.003626\n",
      "x31      -0.064889 -0.053376\n",
      "x32       0.045356  0.056933\n",
      "x33       0.039603  0.124290\n",
      "x34       0.161626  0.341912\n",
      "x35       0.054466  0.174110\n",
      "x36       0.213920  0.439149\n",
      "1.0/2.0  -5.816211 -5.733103\n",
      "2.0/3.0  -0.122499 -0.052284\n",
      "3.0/4.0  -0.289350 -0.238945\n",
      "4.0/5.0  -0.178450 -0.146003\n",
      "5.0/6.0  -0.104648 -0.083784\n",
      "6.0/7.0  -0.099545 -0.085268\n",
      "7.0/8.0   0.099216  0.108735\n",
      "8.0/9.0   0.085951  0.094788\n",
      "9.0/10.0  0.137371  0.148065\n"
     ]
    }
   ],
   "source": [
    "# Fit an Ordinal Logistic Regression model\n",
    "model = OrderedModel(y_train, X_train, distr='logit')\n",
    "model_fit = model.fit(method='bfgs')\n",
    "print(model_fit.summary())\n",
    "\n",
    "# Coefficient significance\n",
    "print(model_fit.pvalues)\n",
    "print(model_fit.conf_int())\n",
    "\n"
   ]
  },
  {
   "cell_type": "markdown",
   "metadata": {},
   "source": [
    "It seems the accuracy is not very high. This is probably due to the difference in the number of ratings for higher values(>5) than ratings(<5>)"
   ]
  },
  {
   "cell_type": "code",
   "execution_count": 62,
   "metadata": {},
   "outputs": [
    {
     "name": "stdout",
     "output_type": "stream",
     "text": [
      "Mean Squared Error: 2.736833967282061\n",
      "Accuracy: 0.260828153508365\n"
     ]
    }
   ],
   "source": [
    "import numpy as np\n",
    "from sklearn.metrics import mean_squared_error, accuracy_score\n",
    "# Predict probabilities on the test set\n",
    "predicted_probs = model_fit.predict(X_test)\n",
    "\n",
    "# Convert probabilities to predicted ratings by selecting the category with the highest probability\n",
    "predicted_ratings = np.argmax(predicted_probs, axis=1)\n",
    "\n",
    "y_test = y_test.cat.codes \n",
    "\n",
    "# Calculate evaluation metrics\n",
    "mse = mean_squared_error(y_test, predicted_ratings)\n",
    "accuracy = accuracy_score(y_test, predicted_ratings)\n",
    "\n",
    "print(\"Mean Squared Error:\", mse)\n",
    "print(\"Accuracy:\", accuracy)"
   ]
  },
  {
   "cell_type": "code",
   "execution_count": 64,
   "metadata": {},
   "outputs": [
    {
     "data": {
      "image/png": "[encoded data removed]",
      "text/plain": [
       "<Figure size 1000x600 with 1 Axes>"
      ]
     },
     "metadata": {},
     "output_type": "display_data"
    }
   ],
   "source": [
    "import matplotlib.pyplot as plt\n",
    "import seaborn as sns\n",
    "\n",
    "plt.figure(figsize=(10, 6))\n",
    "sns.scatterplot(x=y_test, y=predicted_ratings, alpha=0.5)\n",
    "\n",
    "plt.plot([1, 10], [1, 10], color='red', linestyle='--')\n",
    "\n",
    "\n",
    "plt.title('Actual vs. Predicted Ratings')\n",
    "plt.xlabel('Actual Ratings')\n",
    "plt.ylabel('Predicted Ratings')\n",
    "plt.xlim(1, 10)  \n",
    "plt.ylim(1, 10)  \n",
    "plt.xticks(range(1, 11))\n",
    "plt.yticks(range(1, 11))\n",
    "\n",
    "# Show plot\n",
    "plt.grid()\n",
    "plt.show()"
   ]
  },
  {
   "cell_type": "markdown",
   "metadata": {},
   "source": [
    "Undersampling the data based on rating to reduce the difference in number of ratings"
   ]
  },
  {
   "cell_type": "code",
   "execution_count": 77,
   "metadata": {},
   "outputs": [
    {
     "name": "stdout",
     "output_type": "stream",
     "text": [
      "Under-sampled DataFrame shape: (521841, 51)\n",
      "Counts of each class in the target variable:\n",
      "rating\n",
      "6.0     88831\n",
      "7.0     88831\n",
      "8.0     88831\n",
      "9.0     88831\n",
      "10.0    88831\n",
      "5.0     44137\n",
      "4.0     18756\n",
      "3.0      7887\n",
      "2.0      4136\n",
      "1.0      2770\n",
      "Name: count, dtype: int64\n"
     ]
    },
    {
     "name": "stderr",
     "output_type": "stream",
     "text": [
      "/var/folders/dz/fg9tl53x4y16ytgmdhwdt0kr0000gn/T/ipykernel_85581/1598312855.py:7: DeprecationWarning: DataFrameGroupBy.apply operated on the grouping columns. This behavior is deprecated, and in a future version of pandas the grouping columns will be excluded from the operation. Either pass `include_groups=False` to exclude the groupings or explicitly select the grouping columns after groupby to silence this warning.\n",
      "  rating_under_sampled_df = df.groupby('rating').apply(lambda x: x.sample(n=min(len(x), target_sample_size), random_state=42)).reset_index(drop=True)\n"
     ]
    }
   ],
   "source": [
    "rating_counts = df['rating'].value_counts()\n",
    "\n",
    "\n",
    "target_sample_size = rating_counts.nlargest(5).min()\n",
    "\n",
    "\n",
    "rating_under_sampled_df = df.groupby('rating').apply(lambda x: x.sample(n=min(len(x), target_sample_size), random_state=42)).reset_index(drop=True)\n",
    "\n",
    "\n",
    "target_counts = rating_under_sampled_df['rating'].value_counts()\n",
    "\n",
    "print(\"Under-sampled DataFrame shape:\", rating_under_sampled_df.shape)\n",
    "print(\"Counts of each class in the target variable:\")\n",
    "print(target_counts)"
   ]
  },
  {
   "cell_type": "markdown",
   "metadata": {},
   "source": [
    "Second iteration with undersampled rating data"
   ]
  },
  {
   "cell_type": "code",
   "execution_count": 78,
   "metadata": {},
   "outputs": [
    {
     "name": "stderr",
     "output_type": "stream",
     "text": [
      "/Users/ramachandrank/Repos/MS/sem1/.venv/lib/python3.12/site-packages/statsmodels/miscmodels/ordinal_model.py:205: Warning: the endog has ordered == False, risk of capturing a wrong order for the categories. ordered == True preferred.\n",
      "  warnings.warn(\"the endog has ordered == False, \"\n"
     ]
    },
    {
     "name": "stdout",
     "output_type": "stream",
     "text": [
      "Optimization terminated successfully.\n",
      "         Current function value: 1.921322\n",
      "         Iterations: 205\n",
      "         Function evaluations: 210\n",
      "         Gradient evaluations: 210\n",
      "                             OrderedModel Results                             \n",
      "==============================================================================\n",
      "Dep. Variable:                 rating   Log-Likelihood:            -8.0210e+05\n",
      "Model:                   OrderedModel   AIC:                         1.604e+06\n",
      "Method:            Maximum Likelihood   BIC:                         1.605e+06\n",
      "Date:                Tue, 05 Nov 2024                                         \n",
      "Time:                        02:19:00                                         \n",
      "No. Observations:              417472                                         \n",
      "Df Residuals:                  417427                                         \n",
      "Df Model:                          36                                         \n",
      "==========================================================================================\n",
      "                             coef    std err          z      P>|z|      [0.025      0.975]\n",
      "------------------------------------------------------------------------------------------\n",
      "Age                       -0.0247      0.001    -36.055      0.000      -0.026      -0.023\n",
      "Episodes                   0.0015   6.44e-05     23.744      0.000       0.001       0.002\n",
      "Gender_Male               -0.0734      0.006    -12.010      0.000      -0.085      -0.061\n",
      "Gender_Non-Binary         -0.3315      0.033     -9.961      0.000      -0.397      -0.266\n",
      "Genre_Action               0.0646      0.007      9.348      0.000       0.051       0.078\n",
      "Genre_Adventure            0.0407      0.008      4.906      0.000       0.024       0.057\n",
      "Genre_Avant Garde         -0.2243      0.032     -7.093      0.000      -0.286      -0.162\n",
      "Genre_Award Winning        0.8839      0.014     62.960      0.000       0.856       0.911\n",
      "Genre_Boys Love           -0.4206      0.028    -14.848      0.000      -0.476      -0.365\n",
      "Genre_Comedy              -0.0372      0.007     -5.471      0.000      -0.050      -0.024\n",
      "Genre_Drama                0.2091      0.007     30.387      0.000       0.196       0.223\n",
      "Genre_Ecchi               -0.5282      0.009    -59.781      0.000      -0.546      -0.511\n",
      "Genre_Fantasy             -0.1668      0.008    -21.968      0.000      -0.182      -0.152\n",
      "Genre_Girls Love          -0.4568      0.025    -17.968      0.000      -0.507      -0.407\n",
      "Genre_Gourmet             -0.0705      0.031     -2.259      0.024      -0.132      -0.009\n",
      "Genre_Horror              -0.2788      0.013    -21.321      0.000      -0.304      -0.253\n",
      "Genre_Mystery              0.0442      0.009      4.728      0.000       0.026       0.062\n",
      "Genre_Romance             -0.0192      0.007     -2.782      0.005      -0.033      -0.006\n",
      "Genre_Sci-Fi              -0.1965      0.008    -25.039      0.000      -0.212      -0.181\n",
      "Genre_Slice of Life        0.0237      0.013      1.840      0.066      -0.002       0.049\n",
      "Genre_Sports               0.1740      0.017     10.308      0.000       0.141       0.207\n",
      "Genre_Supernatural         0.1495      0.008     18.768      0.000       0.134       0.165\n",
      "Genre_Suspense             0.4901      0.014     34.748      0.000       0.462       0.518\n",
      "Location_Brazil            0.3828      0.012     31.132      0.000       0.359       0.407\n",
      "Location_Canada            0.0645      0.012      5.293      0.000       0.041       0.088\n",
      "Location_France           -0.4132      0.012    -34.098      0.000      -0.437      -0.389\n",
      "Location_Germany           0.0018      0.012      0.148      0.882      -0.022       0.026\n",
      "Location_Philippines       0.8435      0.012     68.816      0.000       0.819       0.867\n",
      "Location_Poland            0.0393      0.012      3.194      0.001       0.015       0.063\n",
      "Location_Russia            0.0039      0.012      0.316      0.752      -0.020       0.028\n",
      "Location_Sweden           -0.1822      0.012    -15.093      0.000      -0.206      -0.159\n",
      "Location_United States     0.2110      0.012     17.251      0.000       0.187       0.235\n",
      "Type_ONA                   0.3814      0.200      1.907      0.057      -0.011       0.773\n",
      "Type_OVA                   0.7052      0.199      3.545      0.000       0.315       1.095\n",
      "Type_Special               0.3728      0.199      1.871      0.061      -0.018       0.763\n",
      "Type_TV                    0.7456      0.199      3.753      0.000       0.356       1.135\n",
      "1.0/2.0                   -5.3759      0.201    -26.723      0.000      -5.770      -4.982\n",
      "2.0/3.0                   -0.0690      0.018     -3.860      0.000      -0.104      -0.034\n",
      "3.0/4.0                   -0.2473      0.013    -19.321      0.000      -0.272      -0.222\n",
      "4.0/5.0                   -0.1396      0.008    -17.000      0.000      -0.156      -0.123\n",
      "5.0/6.0                   -0.0503      0.005     -9.572      0.000      -0.061      -0.040\n",
      "6.0/7.0                    0.0244      0.004      6.893      0.000       0.017       0.031\n",
      "7.0/8.0                   -0.2750      0.003    -78.730      0.000      -0.282      -0.268\n",
      "8.0/9.0                   -0.2826      0.003    -80.926      0.000      -0.289      -0.276\n",
      "9.0/10.0                  -0.0231      0.004     -6.544      0.000      -0.030      -0.016\n",
      "==========================================================================================\n",
      "Age                       1.169237e-284\n",
      "Episodes                  1.257567e-124\n",
      "Gender_Male                3.141376e-33\n",
      "Gender_Non-Binary          2.249364e-23\n",
      "Genre_Action               8.926337e-21\n",
      "Genre_Adventure            9.297422e-07\n",
      "Genre_Avant Garde          1.315083e-12\n",
      "Genre_Award Winning        0.000000e+00\n",
      "Genre_Boys Love            7.129536e-50\n",
      "Genre_Comedy               4.486878e-08\n",
      "Genre_Drama               8.231411e-203\n",
      "Genre_Ecchi                0.000000e+00\n",
      "Genre_Fantasy             5.862816e-107\n",
      "Genre_Girls Love           3.448285e-72\n",
      "Genre_Gourmet              2.388877e-02\n",
      "Genre_Horror              7.316307e-101\n",
      "Genre_Mystery              2.267776e-06\n",
      "Genre_Romance              5.401458e-03\n",
      "Genre_Sci-Fi              2.277079e-138\n",
      "Genre_Slice of Life        6.571469e-02\n",
      "Genre_Sports               6.507695e-25\n",
      "Genre_Supernatural         1.381168e-78\n",
      "Genre_Suspense            1.469830e-264\n",
      "Location_Brazil           8.905444e-213\n",
      "Location_Canada            1.204592e-07\n",
      "Location_France           7.868142e-255\n",
      "Location_Germany           8.824292e-01\n",
      "Location_Philippines       0.000000e+00\n",
      "Location_Poland            1.402949e-03\n",
      "Location_Russia            7.523721e-01\n",
      "Location_Sweden            1.794018e-51\n",
      "Location_United States     1.107131e-66\n",
      "Type_ONA                   5.654060e-02\n",
      "Type_OVA                   3.923281e-04\n",
      "Type_Special               6.136839e-02\n",
      "Type_TV                    1.747418e-04\n",
      "1.0/2.0                   2.527731e-157\n",
      "2.0/3.0                    1.135987e-04\n",
      "3.0/4.0                    3.603350e-83\n",
      "4.0/5.0                    8.244007e-65\n",
      "5.0/6.0                    1.053507e-21\n",
      "6.0/7.0                    5.466686e-12\n",
      "7.0/8.0                    0.000000e+00\n",
      "8.0/9.0                    0.000000e+00\n",
      "9.0/10.0                   5.998021e-11\n",
      "dtype: float64\n",
      "                               0         1\n",
      "Age                    -0.026047 -0.023361\n",
      "Episodes                0.001404  0.001657\n",
      "Gender_Male            -0.085393 -0.061432\n",
      "Gender_Non-Binary      -0.396676 -0.266242\n",
      "Genre_Action            0.051034  0.078111\n",
      "Genre_Adventure         0.024451  0.056985\n",
      "Genre_Avant Garde      -0.286247 -0.162298\n",
      "Genre_Award Winning     0.856408  0.911442\n",
      "Genre_Boys Love        -0.476156 -0.365110\n",
      "Genre_Comedy           -0.050486 -0.023852\n",
      "Genre_Drama             0.195632  0.222609\n",
      "Genre_Ecchi            -0.545526 -0.510891\n",
      "Genre_Fantasy          -0.181644 -0.151887\n",
      "Genre_Girls Love       -0.506618 -0.406965\n",
      "Genre_Gourmet          -0.131694 -0.009332\n",
      "Genre_Horror           -0.304466 -0.253201\n",
      "Genre_Mystery           0.025864  0.062492\n",
      "Genre_Romance          -0.032701 -0.005669\n",
      "Genre_Sci-Fi           -0.211833 -0.181078\n",
      "Genre_Slice of Life    -0.001538  0.048861\n",
      "Genre_Sports            0.140917  0.207090\n",
      "Genre_Supernatural      0.133878  0.165101\n",
      "Genre_Suspense          0.462463  0.517751\n",
      "Location_Brazil         0.358706  0.406906\n",
      "Location_Canada         0.040638  0.088434\n",
      "Location_France        -0.436949 -0.389447\n",
      "Location_Germany       -0.022208  0.025833\n",
      "Location_Philippines    0.819436  0.867482\n",
      "Location_Poland         0.015194  0.063458\n",
      "Location_Russia        -0.020302  0.028092\n",
      "Location_Sweden        -0.205896 -0.158568\n",
      "Location_United States  0.187005  0.234945\n",
      "Type_ONA               -0.010624  0.773351\n",
      "Type_OVA                0.315323  1.095049\n",
      "Type_Special           -0.017761  0.763361\n",
      "Type_TV                 0.356205  1.134945\n",
      "1.0/2.0                -5.770132 -4.981570\n",
      "2.0/3.0                -0.104109 -0.033983\n",
      "3.0/4.0                -0.272350 -0.222182\n",
      "4.0/5.0                -0.155652 -0.123471\n",
      "5.0/6.0                -0.060540 -0.039960\n",
      "6.0/7.0                 0.017459  0.031332\n",
      "7.0/8.0                -0.281800 -0.268110\n",
      "8.0/9.0                -0.289480 -0.275790\n",
      "9.0/10.0               -0.029995 -0.016169\n"
     ]
    }
   ],
   "source": [
    "# Standardize the features\n",
    "features = rating_under_sampled_df.columns.difference(['user_id', 'anime_id', 'rating', 'Birthday_Date', 'Joined_Date', 'Age_Join', 'Episodes Watched',\n",
    "                                  'Start Date', 'End Date', 'Name', 'Rank', 'Studios', 'Source', 'Episodes_Norm', 'Unnamed: 0'])\n",
    "\n",
    "\n",
    "# # Split the data\n",
    "X = rating_under_sampled_df[features]\n",
    "\n",
    "y = rating_under_sampled_df[target]\n",
    "\n",
    "# Ordinal Logistic Regression expects integer targets as levels\n",
    "y = y.astype('category')\n",
    "\n",
    "# # Split into training and test sets\n",
    "X_train, X_test, y_train, y_test = train_test_split(X, y, test_size=0.2, random_state=42)\n",
    "\n",
    "# Fit an Ordinal Logistic Regression model\n",
    "model_under_rating = OrderedModel(y_train, X_train, distr='logit')\n",
    "model_under_rating_fit = model_under_rating.fit(method='bfgs')\n",
    "print(model_under_rating_fit.summary())\n",
    "\n",
    "# Coefficient significance\n",
    "print(model_under_rating_fit.pvalues)\n",
    "print(model_under_rating_fit.conf_int())"
   ]
  },
  {
   "cell_type": "code",
   "execution_count": 81,
   "metadata": {},
   "outputs": [
    {
     "name": "stdout",
     "output_type": "stream",
     "text": [
      "Mean Squared Error: 5.318926117908575\n",
      "Accuracy: 0.163640544606157\n"
     ]
    }
   ],
   "source": [
    "\n",
    "# Predict probabilities on the test set\n",
    "predicted_probs = model_under_rating_fit.predict(X_test)\n",
    "\n",
    "# Convert probabilities to predicted ratings by selecting the category with the highest probability\n",
    "predicted_ratings = np.argmax(predicted_probs, axis=1)\n",
    "\n",
    "y_test = y_test.astype('category').cat.codes + 1\n",
    "\n",
    "# Calculate evaluation metrics\n",
    "mse = mean_squared_error(y_test, predicted_ratings)\n",
    "accuracy = accuracy_score(y_test, predicted_ratings)\n",
    "\n",
    "print(\"Mean Squared Error:\", mse)\n",
    "print(\"Accuracy:\", accuracy)"
   ]
  },
  {
   "cell_type": "code",
   "execution_count": 82,
   "metadata": {},
   "outputs": [
    {
     "data": {
      "image/png": "[encoded data removed]",
      "text/plain": [
       "<Figure size 1000x600 with 1 Axes>"
      ]
     },
     "metadata": {},
     "output_type": "display_data"
    }
   ],
   "source": [
    "plt.figure(figsize=(10, 6))\n",
    "sns.scatterplot(x=y_test, y=predicted_ratings, alpha=0.5)\n",
    "\n",
    "plt.plot([1, 10], [1, 10], color='red', linestyle='--')\n",
    "\n",
    "plt.title('Actual vs. Predicted Ratings')\n",
    "plt.xlabel('Actual Ratings')\n",
    "plt.ylabel('Predicted Ratings')\n",
    "plt.xlim(1, 10)  \n",
    "plt.ylim(1, 10)  \n",
    "plt.xticks(range(1, 11))\n",
    "plt.yticks(range(1, 11))\n",
    "\n",
    "# Show plot\n",
    "plt.grid()\n",
    "plt.show()"
   ]
  },
  {
   "cell_type": "code",
   "execution_count": null,
   "metadata": {},
   "outputs": [],
   "source": [
    "import pickle\n",
    "\n",
    "# Save the model to a file\n",
    "with open('./models/ordinal_logistic_model.pkl', 'wb') as f:\n",
    "    pickle.dump(model_fit, f)"
   ]
  },
  {
   "cell_type": "code",
   "execution_count": 83,
   "metadata": {},
   "outputs": [
    {
     "name": "stderr",
     "output_type": "stream",
     "text": [
      "/Users/ramachandrank/Repos/MS/sem1/.venv/lib/python3.12/site-packages/statsmodels/miscmodels/ordinal_model.py:205: Warning: the endog has ordered == False, risk of capturing a wrong order for the categories. ordered == True preferred.\n",
      "  warnings.warn(\"the endog has ordered == False, \"\n"
     ]
    },
    {
     "name": "stdout",
     "output_type": "stream",
     "text": [
      "Optimization terminated successfully.\n",
      "         Current function value: 1.921322\n",
      "         Iterations: 70\n",
      "         Function evaluations: 71\n",
      "         Gradient evaluations: 71\n",
      "                             OrderedModel Results                             \n",
      "==============================================================================\n",
      "Dep. Variable:                 rating   Log-Likelihood:            -8.0210e+05\n",
      "Model:                   OrderedModel   AIC:                         1.604e+06\n",
      "Method:            Maximum Likelihood   BIC:                         1.605e+06\n",
      "Date:                Tue, 05 Nov 2024                                         \n",
      "Time:                        02:29:34                                         \n",
      "No. Observations:              417472                                         \n",
      "Df Residuals:                  417427                                         \n",
      "Df Model:                          36                                         \n",
      "==============================================================================\n",
      "                 coef    std err          z      P>|z|      [0.025      0.975]\n",
      "------------------------------------------------------------------------------\n",
      "x1            -0.1021      0.003    -36.055      0.000      -0.108      -0.097\n",
      "x2             0.0753      0.003     23.745      0.000       0.069       0.082\n",
      "x3            -0.0345      0.003    -12.010      0.000      -0.040      -0.029\n",
      "x4            -0.0279      0.003     -9.960      0.000      -0.033      -0.022\n",
      "x5             0.0320      0.003      9.345      0.000       0.025       0.039\n",
      "x6             0.0161      0.003      4.891      0.000       0.010       0.023\n",
      "x7            -0.0209      0.003     -7.099      0.000      -0.027      -0.015\n",
      "x8             0.1884      0.003     62.968      0.000       0.182       0.194\n",
      "x9            -0.0424      0.003    -14.848      0.000      -0.048      -0.037\n",
      "x10           -0.0184      0.003     -5.476      0.000      -0.025      -0.012\n",
      "x11            0.0930      0.003     30.385      0.000       0.087       0.099\n",
      "x12           -0.1769      0.003    -59.767      0.000      -0.183      -0.171\n",
      "x13           -0.0738      0.003    -21.956      0.000      -0.080      -0.067\n",
      "x14           -0.0488      0.003    -17.949      0.000      -0.054      -0.043\n",
      "x15           -0.0061      0.003     -2.252      0.024      -0.011      -0.001\n",
      "x16           -0.0632      0.003    -21.315      0.000      -0.069      -0.057\n",
      "x17            0.0143      0.003      4.736      0.000       0.008       0.020\n",
      "x18           -0.0090      0.003     -2.788      0.005      -0.015      -0.003\n",
      "x19           -0.0778      0.003    -25.039      0.000      -0.084      -0.072\n",
      "x20            0.0053      0.003      1.839      0.066      -0.000       0.011\n",
      "x21            0.0304      0.003     10.308      0.000       0.025       0.036\n",
      "x22            0.0601      0.003     18.767      0.000       0.054       0.066\n",
      "x23            0.1048      0.003     34.745      0.000       0.099       0.111\n",
      "x24            0.1159      0.004     31.156      0.000       0.109       0.123\n",
      "x25            0.0194      0.004      5.306      0.000       0.012       0.027\n",
      "x26           -0.1250      0.004    -34.100      0.000      -0.132      -0.118\n",
      "x27            0.0006      0.004      0.154      0.877      -0.007       0.008\n",
      "x28            0.2550      0.004     68.830      0.000       0.248       0.262\n",
      "x29            0.0118      0.004      3.211      0.001       0.005       0.019\n",
      "x30            0.0012      0.004      0.323      0.747      -0.006       0.008\n",
      "x31           -0.0551      0.004    -15.070      0.000      -0.062      -0.048\n",
      "x32            0.0632      0.004     17.261      0.000       0.056       0.070\n",
      "x33            0.0441      0.023      1.912      0.056      -0.001       0.089\n",
      "x34            0.1724      0.049      3.553      0.000       0.077       0.267\n",
      "x35            0.0612      0.033      1.876      0.061      -0.003       0.125\n",
      "x36            0.2288      0.061      3.760      0.000       0.110       0.348\n",
      "1.0/2.0       -5.3784      0.021   -250.668      0.000      -5.420      -5.336\n",
      "2.0/3.0       -0.0688      0.018     -3.844      0.000      -0.104      -0.034\n",
      "3.0/4.0       -0.2474      0.013    -19.327      0.000      -0.272      -0.222\n",
      "4.0/5.0       -0.1395      0.008    -16.998      0.000      -0.156      -0.123\n",
      "5.0/6.0       -0.0502      0.005     -9.570      0.000      -0.061      -0.040\n",
      "6.0/7.0        0.0244      0.004      6.890      0.000       0.017       0.031\n",
      "7.0/8.0       -0.2749      0.003    -78.727      0.000      -0.282      -0.268\n",
      "8.0/9.0       -0.2827      0.003    -80.933      0.000      -0.290      -0.276\n",
      "9.0/10.0      -0.0231      0.004     -6.539      0.000      -0.030      -0.016\n",
      "==============================================================================\n",
      "x1          1.137272e-284\n",
      "x2          1.240609e-124\n",
      "x3           3.134745e-33\n",
      "x4           2.278068e-23\n",
      "x5           9.215770e-21\n",
      "x6           1.004153e-06\n",
      "x7           1.259340e-12\n",
      "x8           0.000000e+00\n",
      "x9           7.127258e-50\n",
      "x10          4.350891e-08\n",
      "x11         8.616374e-203\n",
      "x12          0.000000e+00\n",
      "x13         7.632627e-107\n",
      "x14          4.921900e-72\n",
      "x15          2.433157e-02\n",
      "x16         8.164416e-101\n",
      "x17          2.175851e-06\n",
      "x18          5.308597e-03\n",
      "x19         2.286305e-138\n",
      "x20          6.585217e-02\n",
      "x21          6.452772e-25\n",
      "x22          1.411825e-78\n",
      "x23         1.635496e-264\n",
      "x24         4.265630e-213\n",
      "x25          1.121340e-07\n",
      "x26         7.419827e-255\n",
      "x27          8.772316e-01\n",
      "x28          0.000000e+00\n",
      "x29          1.323391e-03\n",
      "x30          7.470042e-01\n",
      "x31          2.564371e-51\n",
      "x32          9.237565e-67\n",
      "x33          5.588277e-02\n",
      "x34          3.814004e-04\n",
      "x35          6.067350e-02\n",
      "x36          1.696355e-04\n",
      "1.0/2.0      0.000000e+00\n",
      "2.0/3.0      1.208487e-04\n",
      "3.0/4.0      3.175558e-83\n",
      "4.0/5.0      8.549532e-65\n",
      "5.0/6.0      1.064837e-21\n",
      "6.0/7.0      5.593449e-12\n",
      "7.0/8.0      0.000000e+00\n",
      "8.0/9.0      0.000000e+00\n",
      "9.0/10.0     6.177096e-11\n",
      "dtype: float64\n",
      "                 0         1\n",
      "x1       -0.107699 -0.096594\n",
      "x2        0.069124  0.081562\n",
      "x3       -0.040172 -0.028900\n",
      "x4       -0.033382 -0.022404\n",
      "x5        0.025281  0.038700\n",
      "x6        0.009628  0.022505\n",
      "x7       -0.026611 -0.015096\n",
      "x8        0.182493  0.194219\n",
      "x9       -0.048000 -0.036806\n",
      "x10      -0.024964 -0.011804\n",
      "x11       0.086993  0.098990\n",
      "x12      -0.182710 -0.171107\n",
      "x13      -0.080335 -0.067168\n",
      "x14      -0.054111 -0.043457\n",
      "x15      -0.011492 -0.000796\n",
      "x16      -0.068995 -0.057376\n",
      "x17       0.008400  0.020260\n",
      "x18      -0.015249 -0.002659\n",
      "x19      -0.083943 -0.071755\n",
      "x20      -0.000349  0.011009\n",
      "x21       0.024636  0.036203\n",
      "x22       0.053794  0.066341\n",
      "x23       0.098892  0.110716\n",
      "x24       0.108634  0.123220\n",
      "x25       0.012221  0.026538\n",
      "x26      -0.132231 -0.117857\n",
      "x27      -0.006577  0.007703\n",
      "x28       0.247776  0.262301\n",
      "x29       0.004607  0.019044\n",
      "x30      -0.005973  0.008326\n",
      "x31      -0.062240 -0.047913\n",
      "x32       0.056018  0.070370\n",
      "x33      -0.001109  0.089405\n",
      "x34       0.077282  0.267490\n",
      "x35      -0.002742  0.125080\n",
      "x36       0.109527  0.347990\n",
      "1.0/2.0  -5.420454 -5.336347\n",
      "2.0/3.0  -0.103820 -0.033706\n",
      "3.0/4.0  -0.272443 -0.222274\n",
      "4.0/5.0  -0.155633 -0.123452\n",
      "5.0/6.0  -0.060534 -0.039954\n",
      "6.0/7.0   0.017447  0.031321\n",
      "7.0/8.0  -0.281789 -0.268099\n",
      "8.0/9.0  -0.289509 -0.275818\n",
      "9.0/10.0 -0.029980 -0.016153\n"
     ]
    }
   ],
   "source": [
    "# Standardize the features\n",
    "features = rating_under_sampled_df.columns.difference(['user_id', 'anime_id', 'rating', 'Birthday_Date', 'Joined_Date', 'Age_Join', 'Episodes Watched',\n",
    "                                  'Start Date', 'End Date', 'Name', 'Rank', 'Studios', 'Source', 'Episodes_Norm', 'Unnamed: 0'])\n",
    "from sklearn.preprocessing import LabelEncoder, StandardScaler\n",
    "\n",
    "scaler = StandardScaler()\n",
    "df_scaled = scaler.fit_transform(rating_under_sampled_df[features])\n",
    "\n",
    "\n",
    "# # Split the data\n",
    "X = df_scaled\n",
    "\n",
    "y = rating_under_sampled_df[target]\n",
    "\n",
    "# Ordinal Logistic Regression expects integer targets as levels\n",
    "y = y.astype('category')\n",
    "\n",
    "# # Split into training and test sets\n",
    "X_train, X_test, y_train, y_test = train_test_split(X, y, test_size=0.2, random_state=42)\n",
    "\n",
    "# Fit an Ordinal Logistic Regression model\n",
    "model_under_rating_standard = OrderedModel(y_train, X_train, distr='logit')\n",
    "model_under_rating_standard_fit = model_under_rating_standard.fit(method='bfgs')\n",
    "print(model_under_rating_standard_fit.summary())\n",
    "\n",
    "# Coefficient significance\n",
    "print(model_under_rating_standard_fit.pvalues)\n",
    "print(model_under_rating_standard_fit.conf_int())"
   ]
  },
  {
   "cell_type": "code",
   "execution_count": null,
   "metadata": {},
   "outputs": [
    {
     "name": "stdout",
     "output_type": "stream",
     "text": [
      "Mean Squared Error: 5.318926117908575\n",
      "Accuracy: 0.163640544606157\n"
     ]
    }
   ],
   "source": [
    "\n",
    "# Predict probabilities on the test set\n",
    "predicted_probs = model_under_rating_standard_fit.predict(X_test)\n",
    "\n",
    "# Convert probabilities to predicted ratings by selecting the category with the highest probability\n",
    "predicted_ratings = np.argmax(predicted_probs, axis=1) + 1\n",
    "\n",
    "y_test = y_test.astype('category').cat.codes + 1\n",
    "\n",
    "# Calculate evaluation metrics\n",
    "mse = mean_squared_error(y_test, predicted_ratings)\n",
    "accuracy = accuracy_score(y_test, predicted_ratings)\n",
    "\n",
    "print(\"Mean Squared Error:\", mse)\n",
    "print(\"Accuracy:\", accuracy)"
   ]
  },
  {
   "cell_type": "code",
   "execution_count": 84,
   "metadata": {},
   "outputs": [
    {
     "data": {
      "image/png": "[encoded data removed]",
      "text/plain": [
       "<Figure size 1000x600 with 1 Axes>"
      ]
     },
     "metadata": {},
     "output_type": "display_data"
    }
   ],
   "source": [
    "plt.figure(figsize=(10, 6))\n",
    "sns.scatterplot(x=y_test, y=predicted_ratings, alpha=0.5)\n",
    "\n",
    "plt.plot([1, 10], [1, 10], color='red', linestyle='--')\n",
    "\n",
    "plt.title('Actual vs. Predicted Ratings')\n",
    "plt.xlabel('Actual Ratings')\n",
    "plt.ylabel('Predicted Ratings')\n",
    "plt.xlim(1, 10)  \n",
    "plt.ylim(1, 10)  \n",
    "plt.xticks(range(1, 11))\n",
    "plt.yticks(range(1, 11))\n",
    "\n",
    "# Show plot\n",
    "plt.grid()\n",
    "plt.show()"
   ]
  },
  {
   "cell_type": "markdown",
   "metadata": {},
   "source": [
    "Ordered Model was not very accurate with our data. This is mostly due to the sparseness of our data after 1 hot encoding multiple class columns like location and genres."
   ]
  }
 ],
 "metadata": {
  "kernelspec": {
   "display_name": ".venv",
   "language": "python",
   "name": "python3"
  },
  "language_info": {
   "codemirror_mode": {
    "name": "ipython",
    "version": 3
   },
   "file_extension": ".py",
   "mimetype": "text/x-python",
   "name": "python",
   "nbconvert_exporter": "python",
   "pygments_lexer": "ipython3",
   "version": "3.12.5"
  }
 },
 "nbformat": 4,
 "nbformat_minor": 2
}
