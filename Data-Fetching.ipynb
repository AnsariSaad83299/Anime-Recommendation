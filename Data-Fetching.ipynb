{
  "nbformat": 4,
  "nbformat_minor": 0,
  "metadata": {
    "colab": {
      "provenance": []
    },
    "kernelspec": {
      "name": "python3",
      "display_name": "Python 3"
    },
    "language_info": {
      "name": "python"
    }
  },
  "cells": [
    {
      "cell_type": "code",
      "source": [
        "!mkdir -p ~/.kaggle\n",
        "!mv kaggle.json ~/.kaggle/\n",
        "!chmod 600 ~/.kaggle/kaggle.json"
      ],
      "metadata": {
        "id": "aStobfzoOzTm"
      },
      "execution_count": null,
      "outputs": []
    },
    {
      "cell_type": "code",
      "execution_count": null,
      "metadata": {
        "colab": {
          "base_uri": "https://localhost:8080/"
        },
        "id": "pngWBY_4fBEh",
        "outputId": "02f3eba7-06fd-4c11-905d-75433a5ec11e"
      },
      "outputs": [
        {
          "output_type": "stream",
          "name": "stdout",
          "text": [
            "Dataset URL: https://www.kaggle.com/datasets/dbdmobile/myanimelist-dataset\n",
            "License(s): DbCL-1.0\n",
            "Downloading myanimelist-dataset.zip to /content\n",
            "100% 1.80G/1.80G [00:14<00:00, 122MB/s] \n",
            "100% 1.80G/1.80G [00:14<00:00, 131MB/s]\n"
          ]
        }
      ],
      "source": [
        "!kaggle datasets download -d dbdmobile/myanimelist-dataset"
      ]
    },
    {
      "cell_type": "code",
      "source": [
        "!unzip /content/myanimelist-dataset.zip -d /content/drive/MyDrive/DIC-Anime-Recommendation/Dataset-2\n"
      ],
      "metadata": {
        "colab": {
          "base_uri": "https://localhost:8080/"
        },
        "id": "_QJKFKFof0aM",
        "outputId": "f00e98bd-62c8-41b1-a471-1227e1c89897"
      },
      "execution_count": null,
      "outputs": [
        {
          "output_type": "stream",
          "name": "stdout",
          "text": [
            "Archive:  /content/myanimelist-dataset.zip\n",
            "  inflating: /content/drive/MyDrive/DIC-Anime-Recommendation/Dataset-2/anime-dataset-2023.csv  \n",
            "  inflating: /content/drive/MyDrive/DIC-Anime-Recommendation/Dataset-2/anime-filtered.csv  \n",
            "  inflating: /content/drive/MyDrive/DIC-Anime-Recommendation/Dataset-2/final_animedataset.csv  \n",
            "  inflating: /content/drive/MyDrive/DIC-Anime-Recommendation/Dataset-2/user-filtered.csv  \n",
            "  inflating: /content/drive/MyDrive/DIC-Anime-Recommendation/Dataset-2/users-details-2023.csv  \n",
            "  inflating: /content/drive/MyDrive/DIC-Anime-Recommendation/Dataset-2/users-score-2023.csv  \n"
          ]
        }
      ]
    },
    {
      "cell_type": "code",
      "source": [],
      "metadata": {
        "id": "ygO9BRnqgXS0"
      },
      "execution_count": null,
      "outputs": []
    }
  ]
}