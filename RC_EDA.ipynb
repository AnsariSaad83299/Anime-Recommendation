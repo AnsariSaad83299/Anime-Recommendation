{
 "cells": [
  {
   "cell_type": "markdown",
   "metadata": {},
   "source": []
  },
  {
   "cell_type": "code",
   "execution_count": 2,
   "metadata": {},
   "outputs": [],
   "source": [
    "import numpy as np\n",
    "import pandas as pd\n",
    "\n",
    "users_df = pd.read_csv(\"cleaned_datasets/users_details_dataset_cleaned.csv\")\n",
    "anime_df = pd.read_csv(\"cleaned_datasets/anime_dataset_cleaned.csv\")\n",
    "user_score_df = pd.read_csv(\"cleaned_datasets/user_scores_cleaned.csv\")"
   ]
  },
  {
   "cell_type": "markdown",
   "metadata": {},
   "source": [
    "EDA Ramachandran(50611273)\n",
    "\n",
    "Hypotheses 1: \n",
    "What is the difference in the genres explored by users of different countries?\n",
    "- This would help in getting a list of genres to suggest animes from to a user from a partiocular country"
   ]
  },
  {
   "cell_type": "code",
   "execution_count": 3,
   "metadata": {},
   "outputs": [],
   "source": [
    "# Keep users that are in both CSVs\n",
    "common_users = pd.merge(user_score_df, users_df, left_on=['user_id', 'Username'], right_on=['Mal ID', 'Username'], how='inner')\n",
    "\n",
    "user_score_df = user_score_df[user_score_df.set_index(['user_id', 'Username']).index.isin(common_users.set_index(['user_id', 'Username']).index)]\n",
    "users_df = users_df[users_df.set_index(['Mal ID', 'Username']).index.isin(common_users.set_index(['user_id', 'Username']).index)]"
   ]
  },
  {
   "cell_type": "code",
   "execution_count": 4,
   "metadata": {},
   "outputs": [
    {
     "data": {
      "text/plain": [
       "array(['United States', 'Australia', 'Norway', 'Canada', 'France',\n",
       "       'Latvia', 'Sweden', 'Finland', 'Malaysia', 'Netherlands',\n",
       "       'Belgium', 'Switzerland', 'Japan', 'United Kingdom', 'Lithuania',\n",
       "       'Greece', 'Mexico', 'Singapore', 'Brazil', 'Iceland', 'Ireland',\n",
       "       'Trinidad and Tobago', 'Croatia', 'Israel', 'Argentina', 'Germany',\n",
       "       'Poland', 'Philippines', 'Portugal', 'Peru', 'Romania',\n",
       "       'El Salvador', 'South Africa', 'Denmark', 'Venezuela', 'Mauritius',\n",
       "       'Russia', 'Slovakia', 'Chile', 'Estonia', 'China', 'Puerto Rico',\n",
       "       'Dominican Republic', 'Hungary', 'Bulgaria', 'Panama', 'Hong Kong',\n",
       "       'Austria', 'Maldives', 'Italy', 'Turkey', 'Ukraine', 'Brunei',\n",
       "       'Réunion', 'Antarctica', 'Iraq', 'Slovenia', 'New Zealand',\n",
       "       'Armenia', 'Spain', 'India', 'Tunisia', 'Indonesia', 'Serbia',\n",
       "       'Taiwan', 'Saudi Arabia', 'Kuwait', 'Malta', 'Bahrain', 'Jamaica',\n",
       "       'Costa Rica', 'Paraguay', 'South Korea', 'Jersey', 'Bangladesh',\n",
       "       'Thailand', 'Zimbabwe', 'Vietnam', 'Colombia', 'Oman', 'Cyprus',\n",
       "       'Norfolk Island', 'United Arab Emirates', 'Ecuador', 'Belarus',\n",
       "       'Cuba', 'Macau', 'Guadeloupe', 'Luxembourg', 'Jordan', 'Aruba',\n",
       "       'Egypt', 'Isle of Man', 'Guam', 'Moldova', 'Honduras', 'Czechia',\n",
       "       'Bahamas', 'Lebanon', 'Guatemala', 'Bolivia', 'Georgia',\n",
       "       'Sri Lanka', 'Kazakhstan', 'North Korea', 'Uruguay', 'Montenegro',\n",
       "       'Pakistan', 'Bermuda', 'Greenland', 'Guernsey', 'Qatar',\n",
       "       'Åland Islands', 'Ivory Coast', 'Republic of the Congo',\n",
       "       'Mauritania', 'Morocco', 'Angola', 'South Sudan', 'Nepal',\n",
       "       'Suriname', 'South Georgia', 'Libya', 'Azerbaijan',\n",
       "       'Faroe Islands', 'Kenya', 'Saint Lucia', 'Bosnia and Herzegovina',\n",
       "       'Nauru', 'Seychelles', 'Grenada', 'Iran', 'Syria', 'Liechtenstein',\n",
       "       'Algeria', 'Kyrgyzstan', 'Albania', 'Samoa', 'Mongolia',\n",
       "       'French Guiana', 'Myanmar', 'Togo', 'Cayman Islands', 'Martinique',\n",
       "       'Namibia', 'Bhutan', 'Barbados', 'Yemen', 'Uzbekistan',\n",
       "       'French Polynesia', 'Madagascar', 'Nigeria', 'Afghanistan',\n",
       "       'Nicaragua', 'Solomon Islands', 'Curaçao', 'Falkland Islands',\n",
       "       'Dominica', 'New Caledonia', 'Ghana', 'Mozambique', 'Monaco',\n",
       "       'Senegal', 'Cambodia', 'Chad', 'Palestine', 'Christmas Island',\n",
       "       'Niue', 'Somalia', 'Haiti', 'Kosovo', 'Vatican City'], dtype=object)"
      ]
     },
     "execution_count": 4,
     "metadata": {},
     "output_type": "execute_result"
    }
   ],
   "source": [
    "# Add column location\n",
    "user_score_df['Location'] = user_score_df.user_id.map(users_df.set_index('Mal ID')['Location'])\n",
    "user_score_df = user_score_df[~user_score_df[\"Location\"].isna()]\n",
    "user_score_df['Location'].unique()"
   ]
  },
  {
   "cell_type": "code",
   "execution_count": 5,
   "metadata": {},
   "outputs": [],
   "source": [
    "# Add column genre for anime's genre\n",
    "user_score_df['Genres'] = user_score_df.anime_id.map(anime_df.set_index('anime_id')['Genres'])\n",
    "user_score_df = user_score_df[~user_score_df[\"Genres\"].isna()]"
   ]
  },
  {
   "cell_type": "code",
   "execution_count": 6,
   "metadata": {},
   "outputs": [
    {
     "data": {
      "text/html": [
       "<div>\n",
       "<style scoped>\n",
       "    .dataframe tbody tr th:only-of-type {\n",
       "        vertical-align: middle;\n",
       "    }\n",
       "\n",
       "    .dataframe tbody tr th {\n",
       "        vertical-align: top;\n",
       "    }\n",
       "\n",
       "    .dataframe thead th {\n",
       "        text-align: right;\n",
       "    }\n",
       "</style>\n",
       "<table border=\"1\" class=\"dataframe\">\n",
       "  <thead>\n",
       "    <tr style=\"text-align: right;\">\n",
       "      <th></th>\n",
       "      <th>Genres</th>\n",
       "      <th>count</th>\n",
       "    </tr>\n",
       "    <tr>\n",
       "      <th>Location</th>\n",
       "      <th></th>\n",
       "      <th></th>\n",
       "    </tr>\n",
       "  </thead>\n",
       "  <tbody>\n",
       "    <tr>\n",
       "      <th>New Caledonia</th>\n",
       "      <td>Drama, Romance, Supernatural</td>\n",
       "      <td>3</td>\n",
       "    </tr>\n",
       "    <tr>\n",
       "      <th>Ghana</th>\n",
       "      <td>Fantasy, Drama, Action, Adventure</td>\n",
       "      <td>4</td>\n",
       "    </tr>\n",
       "    <tr>\n",
       "      <th>Kosovo</th>\n",
       "      <td>Comedy, Adventure, Action, Romance, Supernatur...</td>\n",
       "      <td>7</td>\n",
       "    </tr>\n",
       "    <tr>\n",
       "      <th>Madagascar</th>\n",
       "      <td>Comedy, Adventure, Romance, Supernatural, Sci-...</td>\n",
       "      <td>7</td>\n",
       "    </tr>\n",
       "    <tr>\n",
       "      <th>Mozambique</th>\n",
       "      <td>Comedy, Adventure, Action, Romance, Mystery, F...</td>\n",
       "      <td>7</td>\n",
       "    </tr>\n",
       "    <tr>\n",
       "      <th>...</th>\n",
       "      <td>...</td>\n",
       "      <td>...</td>\n",
       "    </tr>\n",
       "    <tr>\n",
       "      <th>Jersey</th>\n",
       "      <td>Hentai, Gourmet, Action, Ecchi, Award Winning,...</td>\n",
       "      <td>21</td>\n",
       "    </tr>\n",
       "    <tr>\n",
       "      <th>Japan</th>\n",
       "      <td>Hentai, Gourmet, Action, Ecchi, Award Winning,...</td>\n",
       "      <td>21</td>\n",
       "    </tr>\n",
       "    <tr>\n",
       "      <th>Jamaica</th>\n",
       "      <td>Hentai, Gourmet, Action, Award Winning, Ecchi,...</td>\n",
       "      <td>21</td>\n",
       "    </tr>\n",
       "    <tr>\n",
       "      <th>Brazil</th>\n",
       "      <td>Hentai, Gourmet, Action, Ecchi, Award Winning,...</td>\n",
       "      <td>21</td>\n",
       "    </tr>\n",
       "    <tr>\n",
       "      <th>Lebanon</th>\n",
       "      <td>Hentai, Gourmet, Action, Award Winning, Ecchi,...</td>\n",
       "      <td>21</td>\n",
       "    </tr>\n",
       "  </tbody>\n",
       "</table>\n",
       "<p>172 rows × 2 columns</p>\n",
       "</div>"
      ],
      "text/plain": [
       "                                                          Genres  count\n",
       "Location                                                               \n",
       "New Caledonia                       Drama, Romance, Supernatural      3\n",
       "Ghana                          Fantasy, Drama, Action, Adventure      4\n",
       "Kosovo         Comedy, Adventure, Action, Romance, Supernatur...      7\n",
       "Madagascar     Comedy, Adventure, Romance, Supernatural, Sci-...      7\n",
       "Mozambique     Comedy, Adventure, Action, Romance, Mystery, F...      7\n",
       "...                                                          ...    ...\n",
       "Jersey         Hentai, Gourmet, Action, Ecchi, Award Winning,...     21\n",
       "Japan          Hentai, Gourmet, Action, Ecchi, Award Winning,...     21\n",
       "Jamaica        Hentai, Gourmet, Action, Award Winning, Ecchi,...     21\n",
       "Brazil         Hentai, Gourmet, Action, Ecchi, Award Winning,...     21\n",
       "Lebanon        Hentai, Gourmet, Action, Award Winning, Ecchi,...     21\n",
       "\n",
       "[172 rows x 2 columns]"
      ]
     },
     "execution_count": 6,
     "metadata": {},
     "output_type": "execute_result"
    }
   ],
   "source": [
    "# group by countries to identify genres\n",
    "\n",
    "def unique_genres(genres):\n",
    "    return ', '.join(set(g.strip() for g in ', '.join(genres).split(',')))\n",
    "\n",
    "# group by country and get unique genres\n",
    "user_score_df_group = user_score_df.groupby(by=\"Location\")[[\"Genres\"]].agg(unique_genres)\n",
    "user_score_df_group\n",
    "\n",
    "# Add column for genre counts\n",
    "user_score_df_group[\"count\"] = user_score_df_group[\"Genres\"].apply(lambda x: len(x.split(\",\")))\n",
    "user_score_df_group.sort_values(by=\"count\")"
   ]
  },
  {
   "cell_type": "code",
   "execution_count": 9,
   "metadata": {},
   "outputs": [
    {
     "data": {
      "text/plain": [
       "<Axes: xlabel='Location'>"
      ]
     },
     "execution_count": 9,
     "metadata": {},
     "output_type": "execute_result"
    },
    {
     "data": {
      "image/png": "[encoded data removed]",
      "text/plain": [
       "<Figure size 640x480 with 1 Axes>"
      ]
     },
     "metadata": {},
     "output_type": "display_data"
    }
   ],
   "source": [
    "user_score_df_group.reset_index(inplace=True)\n",
    "user_score_df_group_filtered = user_score_df_group[user_score_df_group[\"Location\"].isin([\"India\", \"United States\", \"Afghanistan\", \"China\", \"Japan\", \"Ghana\", \"Russia\", \"Sri Lanka\"])]\n",
    "user_score_df_group_filtered.plot(x=\"Location\", y=\"count\")"
   ]
  },
  {
   "cell_type": "markdown",
   "metadata": {},
   "source": [
    "Inference:\n",
    "We can see that for different countries the number of genres explored is different. But it can also be seen that in most developed countries the genres explored is maximum, and for less developed countries it is low. \n",
    "So we can recommend animes from a variety of genre to a user from developed country, but from a niche genre for less countries."
   ]
  },
  {
   "cell_type": "markdown",
   "metadata": {},
   "source": [
    "Hypotheses 2: \n"
   ]
  }
 ],
 "metadata": {
  "kernelspec": {
   "display_name": ".venv",
   "language": "python",
   "name": "python3"
  },
  "language_info": {
   "codemirror_mode": {
    "name": "ipython",
    "version": 3
   },
   "file_extension": ".py",
   "mimetype": "text/x-python",
   "name": "python",
   "nbconvert_exporter": "python",
   "pygments_lexer": "ipython3",
   "version": "3.12.5"
  }
 },
 "nbformat": 4,
 "nbformat_minor": 2
}
